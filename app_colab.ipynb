{
 "cells": [
  {
   "cell_type": "markdown",
   "metadata": {},
   "source": [
    "# Fundus Photo Labeller\n"
   ]
  },
  {
   "cell_type": "markdown",
   "source": [
    "## 1. Plug in google drive and add it to interpreter path\n",
    "\n",
    "Complete path in the last line and run the cell below"
   ],
   "metadata": {
    "collapsed": false
   }
  },
  {
   "cell_type": "code",
   "execution_count": null,
   "outputs": [],
   "source": [
    "from google.colab import drive\n",
    "import sys\n",
    "\n",
    "drive.mount('/content/gdrive/')\n",
    "sys.path.append('/content/gdrive/path/to/directory')"
   ],
   "metadata": {
    "collapsed": false
   }
  },
  {
   "cell_type": "markdown",
   "source": [
    "## 2. Install the necessary packages\n",
    "\n",
    "Running cell below"
   ],
   "metadata": {
    "collapsed": false
   }
  },
  {
   "cell_type": "code",
   "execution_count": null,
   "outputs": [],
   "source": [
    "!pip install exif==1.6.0\n",
    "!pip install openpyxl==3.1.2"
   ],
   "metadata": {
    "collapsed": false
   }
  },
  {
   "cell_type": "markdown",
   "metadata": {},
   "source": [
    "## 3. Configure the application\n",
    "\n",
    "Complete in the cell below:\n",
    "- directory path with fundus photos\n",
    "- path where the configuration file will be stored\n",
    "- path where xls sheet with labels will be stored\n",
    "- extensions taken by marked fundus photos\n",
    "\n",
    "... and run the cell."
   ]
  },
  {
   "cell_type": "code",
   "execution_count": 1,
   "metadata": {},
   "outputs": [],
   "source": [
    "imgs_path = '/Users/tomek/Downloads/A. Segmentation/1. Original Images'\n",
    "config_path = '/Users/tomek/Downloads/A. Segmentation/1. Original Images/config.json'\n",
    "labels_xls_output_path = 'path/to/exported/labels.xls'\n",
    "exts = ['jpeg', 'jpg']"
   ]
  },
  {
   "cell_type": "markdown",
   "metadata": {},
   "source": [
    "## 4. Start the application\n",
    "\n",
    "Running cell below"
   ]
  },
  {
   "cell_type": "code",
   "execution_count": 2,
   "metadata": {},
   "outputs": [],
   "source": [
    "from utils import main\n",
    "\n",
    "main(imgs_path, exts, config_path)"
   ]
  },
  {
   "cell_type": "markdown",
   "source": [
    "## 5. Export addigned labels into XLS file"
   ],
   "metadata": {
    "collapsed": false
   }
  },
  {
   "cell_type": "code",
   "execution_count": null,
   "outputs": [],
   "source": [
    "from utils import export_labels\n",
    "\n",
    "export_labels(labels_xls_output_path)"
   ],
   "metadata": {
    "collapsed": false
   }
  }
 ],
 "metadata": {
  "kernelspec": {
   "display_name": "Python 3 (ipykernel)",
   "language": "python",
   "name": "python3"
  },
  "language_info": {
   "codemirror_mode": {
    "name": "ipython",
    "version": 3
   },
   "file_extension": ".py",
   "mimetype": "text/x-python",
   "name": "python",
   "nbconvert_exporter": "python",
   "pygments_lexer": "ipython3",
   "version": "3.11.3"
  }
 },
 "nbformat": 4,
 "nbformat_minor": 1
}
